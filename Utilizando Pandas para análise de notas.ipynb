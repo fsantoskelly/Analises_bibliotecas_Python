{
 "cells": [
  {
   "cell_type": "code",
   "execution_count": 10,
   "id": "eba11718-62da-4720-a266-ca461d76a28f",
   "metadata": {},
   "outputs": [
    {
     "name": "stdout",
     "output_type": "stream",
     "text": [
      "Series de notas:\n",
      "Tiago        8.0\n",
      "Guilherme    9.5\n",
      "Juca         6.2\n",
      "dtype: float64\n",
      "\n",
      "Nota máxima: 9.5\n",
      "Nota mínima: 6.2\n",
      "Média: 7.8999999999999995\n",
      "\n",
      "Notas acima da média 7:\n",
      "Tiago        8.0\n",
      "Guilherme    9.5\n",
      "dtype: float64\n",
      "\n",
      "Notas abaixo da média 7:\n",
      "Juca    6.2\n",
      "dtype: float64\n"
     ]
    }
   ],
   "source": [
    "import pandas as pd"
   ]
  },
  {
   "cell_type": "code",
   "execution_count": null,
   "id": "d8ed20ce-918f-4ca2-856f-0b5a1002c20d",
   "metadata": {},
   "outputs": [],
   "source": [
    "# Dicionário de notas\n",
    "notas = {'Tiago': 8, 'Guilherme': 9.5, 'Juca': 6.2}"
   ]
  },
  {
   "cell_type": "code",
   "execution_count": null,
   "id": "84592a78-54cf-4add-b6e7-7da31c8b6110",
   "metadata": {},
   "outputs": [],
   "source": [
    "# Converter o dicionário de notas para uma Series do Pandas\n",
    "notas_series = pd.Series(notas)\n"
   ]
  },
  {
   "cell_type": "code",
   "execution_count": null,
   "id": "fcda44ab-48cc-4cd1-aafd-f394e4a9c9e3",
   "metadata": {},
   "outputs": [],
   "source": [
    "# Exibir a Series\n",
    "print(\"Series de notas:\")\n",
    "print(notas_series)"
   ]
  },
  {
   "cell_type": "code",
   "execution_count": null,
   "id": "666cfd4f-3d8b-483d-8291-aadc573cff39",
   "metadata": {},
   "outputs": [],
   "source": [
    "# Calcular estatísticas básicas\n",
    "nota_maxima = notas_series.max()\n",
    "nota_minima = notas_series.min()\n",
    "media = notas_series.mean()"
   ]
  },
  {
   "cell_type": "code",
   "execution_count": null,
   "id": "6276bfc5-db91-44e3-bf89-64fde022324e",
   "metadata": {},
   "outputs": [],
   "source": [
    "# Determinar quem está acima e abaixo da média 7\n",
    "acima_da_media = notas_series[notas_series > 7]\n",
    "abaixo_da_media = notas_series[notas_series < 7]"
   ]
  },
  {
   "cell_type": "code",
   "execution_count": 12,
   "id": "08ba6bb6-aada-4c66-bbd8-81bfcd247dfe",
   "metadata": {},
   "outputs": [
    {
     "name": "stdout",
     "output_type": "stream",
     "text": [
      "\n",
      "Nota máxima: 9.5\n",
      "Nota mínima: 6.2\n",
      "Média: 7.8999999999999995\n",
      "\n",
      "Notas acima da média 7:\n",
      "Tiago        8.0\n",
      "Guilherme    9.5\n",
      "dtype: float64\n",
      "\n",
      "Notas abaixo da média 7:\n",
      "Juca    6.2\n",
      "dtype: float64\n"
     ]
    }
   ],
   "source": [
    "# Exibir os resultados\n",
    "print(f\"\\nNota máxima: {nota_maxima}\")\n",
    "print(f\"Nota mínima: {nota_minima}\")\n",
    "print(f\"Média: {media}\")\n",
    "print(f\"\\nNotas acima da média 7:\\n{acima_da_media}\")\n",
    "print(f\"\\nNotas abaixo da média 7:\\n{abaixo_da_media}\")"
   ]
  },
  {
   "cell_type": "code",
   "execution_count": 27,
   "id": "e7bb211b-e693-4f5b-a9e6-46424d30e45e",
   "metadata": {},
   "outputs": [],
   "source": [
    "# Dicionário de notas\n",
    "notas = {'Tiago': 8, 'Guilherme': 9.5, 'Juca': 6.2}"
   ]
  },
  {
   "cell_type": "code",
   "execution_count": null,
   "id": "e7dd29a5-4a86-4171-a9b5-445cee276e61",
   "metadata": {},
   "outputs": [],
   "source": [
    "# Converter o dicionário de notas para uma Series do Pandas\n",
    "notas_series = pd.Series(notas)\n"
   ]
  },
  {
   "cell_type": "code",
   "execution_count": null,
   "id": "e49d1503-21d6-472e-96c3-bacde25f476e",
   "metadata": {},
   "outputs": [],
   "source": [
    "# Obter uma descrição estatística das notas\n",
    "descricao = notas_series.describe()"
   ]
  },
  {
   "cell_type": "code",
   "execution_count": 29,
   "id": "12f3a3f8-8d2d-4d42-92ac-11321b95b615",
   "metadata": {},
   "outputs": [
    {
     "name": "stdout",
     "output_type": "stream",
     "text": [
      "Descrição estatística das notas:\n",
      "count    3.000000\n",
      "mean     7.900000\n",
      "std      1.652271\n",
      "min      6.200000\n",
      "25%      7.100000\n",
      "50%      8.000000\n",
      "75%      8.750000\n",
      "max      9.500000\n",
      "dtype: float64\n"
     ]
    }
   ],
   "source": [
    "# Exibir a descrição\n",
    "print(\"Descrição estatística das notas:\")\n",
    "print(descricao)"
   ]
  },
  {
   "cell_type": "code",
   "execution_count": 40,
   "id": "240ad55a-8dbb-4b58-821b-6aff658a2986",
   "metadata": {},
   "outputs": [],
   "source": [
    "# Criar um dicionário com os livros e seus respectivos valores\n",
    "livros_valores = {\n",
    "    'Livro': [\n",
    "        'Bullying não é bobagem!',\n",
    "        'Dicionário Escolar Educação Ambiental (1)',\n",
    "        'Dicionário Escolar Educação Ambiental (2)',\n",
    "        'Vamos estudar ecologia',\n",
    "        'Aprendendo com a natureza',\n",
    "        'O verde que me cerca',\n",
    "        'Lixo Poluição e Meio Ambiente'\n",
    "    ],\n",
    "    'Valor': [68.00, 85.00, 95.00, 68.00, 68.00, 68.00, 50.00]\n",
    "}"
   ]
  },
  {
   "cell_type": "code",
   "execution_count": 42,
   "id": "1adbfef4-4dc3-4eef-9a99-fe9ab1957b22",
   "metadata": {},
   "outputs": [],
   "source": [
    "# Converter o dicionário em um DataFrame do Pandas\n",
    "livros_df = pd.DataFrame(livros_valores)"
   ]
  },
  {
   "cell_type": "code",
   "execution_count": 44,
   "id": "c6f60021-cdb9-44f9-95da-db81171042ff",
   "metadata": {},
   "outputs": [
    {
     "name": "stdout",
     "output_type": "stream",
     "text": [
      "DataFrame de livros e valores:\n",
      "                                       Livro  Valor\n",
      "0                    Bullying não é bobagem!   68.0\n",
      "1  Dicionário Escolar Educação Ambiental (1)   85.0\n",
      "2  Dicionário Escolar Educação Ambiental (2)   95.0\n",
      "3                     Vamos estudar ecologia   68.0\n",
      "4                  Aprendendo com a natureza   68.0\n",
      "5                       O verde que me cerca   68.0\n",
      "6              Lixo Poluição e Meio Ambiente   50.0\n"
     ]
    }
   ],
   "source": [
    "# Exibir o DataFrame\n",
    "print(\"DataFrame de livros e valores:\")\n",
    "print(livros_df)"
   ]
  },
  {
   "cell_type": "code",
   "execution_count": 58,
   "id": "e1e0f998-cdef-4c7f-9ded-ef999870b91c",
   "metadata": {},
   "outputs": [],
   "source": [
    "# Listar apenas os títulos dos livros\n",
    "titulos_livros = livros_df['Livro']"
   ]
  },
  {
   "cell_type": "code",
   "execution_count": 60,
   "id": "c6c5bed1-01ca-4189-9b01-a828769147ed",
   "metadata": {},
   "outputs": [
    {
     "name": "stdout",
     "output_type": "stream",
     "text": [
      "Títulos dos livros:\n",
      "0                      Bullying não é bobagem!\n",
      "1    Dicionário Escolar Educação Ambiental (1)\n",
      "2    Dicionário Escolar Educação Ambiental (2)\n",
      "3                       Vamos estudar ecologia\n",
      "4                    Aprendendo com a natureza\n",
      "5                         O verde que me cerca\n",
      "6                Lixo Poluição e Meio Ambiente\n",
      "Name: Livro, dtype: object\n"
     ]
    }
   ],
   "source": [
    "# Exibir os títulos dos livros\n",
    "print(\"Títulos dos livros:\")\n",
    "print(titulos_livros)"
   ]
  },
  {
   "cell_type": "code",
   "execution_count": 66,
   "id": "19289f23-3c75-4b96-8cba-5e4d1f1fd048",
   "metadata": {},
   "outputs": [],
   "source": [
    "# Criar um dicionário com os livros e seus respectivos valores\n",
    "livros_valores = {\n",
    "    'Livro': [\n",
    "        'Bullying não é bobagem!',\n",
    "        'Dicionário Escolar Educação Ambiental (1)',\n",
    "        'Dicionário Escolar Educação Ambiental (2)',\n",
    "        'Vamos estudar ecologia',\n",
    "        'Aprendendo com a natureza',\n",
    "        'O verde que me cerca',\n",
    "        'Lixo Poluição e Meio Ambiente'\n",
    "    ],\n",
    "    'Valor': [68.00, 85.00, 95.00, 68.00, 68.00, 68.00, 50.00]\n",
    "}"
   ]
  },
  {
   "cell_type": "code",
   "execution_count": 68,
   "id": "f8aa2722-f70f-4531-ae83-0f34dd8baf89",
   "metadata": {},
   "outputs": [],
   "source": [
    "# Converter o dicionário em um DataFrame do Pandas\n",
    "livros_df = pd.DataFrame(livros_valores)\n"
   ]
  },
  {
   "cell_type": "code",
   "execution_count": 70,
   "id": "f260b253-b574-4edc-80ad-0a10f84e74b2",
   "metadata": {},
   "outputs": [],
   "source": [
    "# Filtrar livros com valores iguais\n",
    "valores_duplicados = livros_df[livros_df.duplicated('Valor', keep=False)]"
   ]
  },
  {
   "cell_type": "code",
   "execution_count": 72,
   "id": "59375ba1-ec8f-4f8a-8d15-d64bc90d584e",
   "metadata": {},
   "outputs": [
    {
     "name": "stdout",
     "output_type": "stream",
     "text": [
      "Livros com valores iguais:\n",
      "                       Livro  Valor\n",
      "0    Bullying não é bobagem!   68.0\n",
      "3     Vamos estudar ecologia   68.0\n",
      "4  Aprendendo com a natureza   68.0\n",
      "5       O verde que me cerca   68.0\n"
     ]
    }
   ],
   "source": [
    "# Exibir os livros com valores iguais\n",
    "print(\"Livros com valores iguais:\")\n",
    "print(valores_duplicados)"
   ]
  },
  {
   "cell_type": "code",
   "execution_count": 82,
   "id": "bb6bf797-748d-4a65-bdc4-e36368ec06f3",
   "metadata": {},
   "outputs": [],
   "source": [
    "# Adicionar o novo livro ao DataFrame usando loc\n",
    "livros_df.loc[len(livros_df)] = ['QUE COISA ESTRANHA', 25.00]"
   ]
  },
  {
   "cell_type": "code",
   "execution_count": 84,
   "id": "bf94cbcc-14c2-49db-9557-25f82028d090",
   "metadata": {},
   "outputs": [
    {
     "name": "stdout",
     "output_type": "stream",
     "text": [
      "DataFrame atualizado com o novo livro (usando append):\n",
      "                                       Livro  Valor\n",
      "0                    Bullying não é bobagem!   68.0\n",
      "1  Dicionário Escolar Educação Ambiental (1)   85.0\n",
      "2  Dicionário Escolar Educação Ambiental (2)   95.0\n",
      "3                     Vamos estudar ecologia   68.0\n",
      "4                  Aprendendo com a natureza   68.0\n",
      "5                       O verde que me cerca   68.0\n",
      "6              Lixo Poluição e Meio Ambiente   50.0\n",
      "7                         QUE COISA ESTRANHA   25.0\n"
     ]
    }
   ],
   "source": [
    "# Exibir o DataFrame atualizado\n",
    "print(\"DataFrame atualizado com o novo livro (usando append):\")\n",
    "print(livros_df)"
   ]
  },
  {
   "cell_type": "code",
   "execution_count": null,
   "id": "0b36c07f-82dd-43c1-9d0e-24b269001816",
   "metadata": {},
   "outputs": [],
   "source": []
  }
 ],
 "metadata": {
  "kernelspec": {
   "display_name": "Python 3 (ipykernel)",
   "language": "python",
   "name": "python3"
  },
  "language_info": {
   "codemirror_mode": {
    "name": "ipython",
    "version": 3
   },
   "file_extension": ".py",
   "mimetype": "text/x-python",
   "name": "python",
   "nbconvert_exporter": "python",
   "pygments_lexer": "ipython3",
   "version": "3.11.7"
  }
 },
 "nbformat": 4,
 "nbformat_minor": 5
}
