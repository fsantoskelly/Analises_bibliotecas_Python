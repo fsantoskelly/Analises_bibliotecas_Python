{
 "cells": [
  {
   "cell_type": "code",
   "execution_count": null,
   "id": "1442a6b7-0564-405c-90e7-5202b9d7af1f",
   "metadata": {},
   "outputs": [],
   "source": [
    "import numpy as np\n",
    "\n",
    "# Solicitar ao usuário que insira 4 temperaturas\n",
    "temperaturas = []\n",
    "horarios = [\"08:00\", \"12:00\", \"18:00\", \"00:00\"]"
   ]
  },
  {
   "cell_type": "code",
   "execution_count": null,
   "id": "f8ea342c-9daf-4950-afb8-c9c94b95de3f",
   "metadata": {},
   "outputs": [],
   "source": [
    "for horario in horarios:\n",
    "    temperatura = float(input(f\"Digite a temperatura às {horario}: \"))\n",
    "    temperaturas.append(temperatura)\n"
   ]
  },
  {
   "cell_type": "code",
   "execution_count": null,
   "id": "9a76c068-5983-496e-a371-6eedd6ee896c",
   "metadata": {},
   "outputs": [],
   "source": [
    "# Converter a lista de temperaturas para um array do NumPy\n",
    "temperaturas_array = np.array(temperaturas)"
   ]
  },
  {
   "cell_type": "code",
   "execution_count": null,
   "id": "7eb70094-3d48-4810-8fce-50f4010d3f4a",
   "metadata": {},
   "outputs": [],
   "source": [
    "# Calcular a temperatura máxima\n",
    "temperatura_maxima = np.max(temperaturas_array)"
   ]
  },
  {
   "cell_type": "code",
   "execution_count": null,
   "id": "255f6a17-bc23-4e5d-aa1e-75d9dd190c4a",
   "metadata": {},
   "outputs": [],
   "source": [
    "# Calcular a temperatura mínima\n",
    "temperatura_minima = np.min(temperaturas_array)"
   ]
  },
  {
   "cell_type": "code",
   "execution_count": null,
   "id": "bd6dd913-0af3-4e15-99e0-26f760982d74",
   "metadata": {},
   "outputs": [],
   "source": [
    "# Calcular a média\n",
    "media = np.mean(temperaturas_array)"
   ]
  },
  {
   "cell_type": "code",
   "execution_count": null,
   "id": "efed2b9f-fd13-440e-8768-5d5081be6aba",
   "metadata": {},
   "outputs": [],
   "source": [
    "# Calcular o desvio padrão\n",
    "desvio_padrao = np.std(temperaturas_array)\n"
   ]
  },
  {
   "cell_type": "code",
   "execution_count": null,
   "id": "b129eb05-0cbb-4bbc-9b46-0f124f39892f",
   "metadata": {},
   "outputs": [],
   "source": [
    "# Encontrar a posição da menor temperatura\n",
    "posicao_menor_temperatura = np.argmin(temperaturas_array)\n"
   ]
  },
  {
   "cell_type": "code",
   "execution_count": 5,
   "id": "ba73b073-74a2-407c-bed6-2bec5b62c882",
   "metadata": {},
   "outputs": [
    {
     "name": "stdout",
     "output_type": "stream",
     "text": [
      "Temperatura máxima: 5.4°C\n",
      "Temperatura mínima: 3.2°C\n",
      "Média: 4.2250000000000005°C\n",
      "Desvio padrão: 0.7885905147793753°C\n",
      "Posição da menor temperatura: 1 (Temperatura das 12:00)\n"
     ]
    }
   ],
   "source": [
    "# Exibir os resultados\n",
    "print(f\"Temperatura máxima: {temperatura_maxima}°C\")\n",
    "print(f\"Temperatura mínima: {temperatura_minima}°C\")\n",
    "print(f\"Média: {media}°C\")\n",
    "print(f\"Desvio padrão: {desvio_padrao}°C\")\n",
    "print(f\"Posição da menor temperatura: {posicao_menor_temperatura} (Temperatura das {horarios[posicao_menor_temperatura]})\")"
   ]
  }
 ],
 "metadata": {
  "kernelspec": {
   "display_name": "Python 3 (ipykernel)",
   "language": "python",
   "name": "python3"
  },
  "language_info": {
   "codemirror_mode": {
    "name": "ipython",
    "version": 3
   },
   "file_extension": ".py",
   "mimetype": "text/x-python",
   "name": "python",
   "nbconvert_exporter": "python",
   "pygments_lexer": "ipython3",
   "version": "3.11.7"
  }
 },
 "nbformat": 4,
 "nbformat_minor": 5
}
